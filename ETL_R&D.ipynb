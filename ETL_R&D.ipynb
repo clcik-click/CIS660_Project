{
 "cells": [
  {
   "cell_type": "code",
   "execution_count": null,
   "metadata": {},
   "outputs": [],
   "source": [
    "import pandas as pd\n",
    "import numpy as np\n",
    "import matplotlib.pyplot as plt\n",
    "import seaborn as sns\n",
    "\n",
    "FILE_PATH = \"Ecommerce_Consumer_Behavior_Analysis_Data.csv\""
   ]
  },
  {
   "cell_type": "markdown",
   "metadata": {},
   "source": [
    "## About Dataset\n",
    "Source: https://www.kaggle.com/datasets/salahuddinahmedshuvo/ecommerce-consumer-behavior-analysis-data/data\n",
    "\n",
    "This dataset provides a comprehensive collection of consumer behavior data that can be used for various market research and statistical analyses. It includes information on purchasing patterns, demographics, product preferences, customer satisfaction, and more, making it ideal for market segmentation, predictive modeling, and understanding customer decision-making processes.\n",
    "\n",
    "The dataset is designed to help researchers, data scientists, and marketers gain insights into consumer purchasing behavior across a wide range of categories. By analyzing this dataset, users can identify key trends, segment customers, and make data-driven decisions to improve product offerings, marketing strategies, and customer engagement.\n",
    "\n",
    "### Key Features:\n",
    "- **Customer Demographics:** Understand age, income, gender, and education level for better segmentation and targeted marketing.\n",
    "- **Purchase Behavior:** Includes purchase amount, frequency, category, and channel preferences to assess spending patterns.\n",
    "- **Customer Loyalty:** Features like brand loyalty, engagement with ads, and loyalty program membership provide insights into long-term customer retention.\n",
    "- **Product Feedback:** Customer ratings and satisfaction levels allow for analysis of product quality and customer sentiment.\n",
    "- **Decision-Making:** Time spent on product research, time to decision, and purchase intent reflect how customers make purchasing decisions.\n",
    "- **Influences on Purchase:** Factors such as social media influence, discount sensitivity, and return rates are included to analyze how external factors affect purchasing behavior.\n",
    "\n",
    "### Columns Overview:\n",
    "0. **Customer_ID:** Unique identifier for each customer.\n",
    "1. **Age:** Customer's age (integer).\n",
    "2. **Gender:** Customer's gender (categorical: Male, Female, Non-binary, Other).\n",
    "3. **Income_Level:** Customer's income level (categorical: Low, Middle, High).\n",
    "4. **Marital_Status:** Customer's marital status (categorical: Single, Married, Divorced, Widowed).\n",
    "5. **Education_Level:** Highest level of education completed (categorical: High School, Bachelor's, Master's, Doctorate).\n",
    "6. **Occupation:** Customer's occupation (categorical: Various job titles).\n",
    "7. **Location:** Customer's location (city, region, or country).\n",
    "8. **Purchase_Category:** Category of purchased products (e.g., Electronics, Clothing, Groceries).\n",
    "9. **Purchase_Amount:** Amount spent during the purchase (decimal).\n",
    "10. **Frequency_of_Purchase:** Number of purchases made per month (integer).\n",
    "11. **Purchase_Channel:** The purchase method (categorical: Online, In-Store, Mixed).\n",
    "12. **Brand_Loyalty:** Loyalty to brands (1-5 scale).\n",
    "13. **Product_Rating:** Rating given by the customer to a purchased product (1-5 scale).\n",
    "14. **Time_Spent_on_Product_Research:** Time spent researching a product (integer, hours or minutes).\n",
    "15. **Social_Media_Influence:** Influence of social media on purchasing decision (categorical: High, Medium, Low, None).\n",
    "16. **Discount_Sensitivity:** Sensitivity to discounts (categorical: Very Sensitive, Somewhat Sensitive, Not Sensitive).\n",
    "17. **Return_Rate:** Percentage of products returned (decimal).\n",
    "18. **Customer_Satisfaction:** Overall satisfaction with the purchase (1-10 scale).\n",
    "19. **Engagement_with_Ads:** Engagement level with advertisements (categorical: High, Medium, Low, None).\n",
    "20. **Device_Used_for_Shopping:** Device used for shopping (categorical: Smartphone, Desktop, Tablet).\n",
    "21. **Payment_Method:** Method of payment used for the purchase (categorical: Credit Card, Debit Card, PayPal, Cash, Other).\n",
    "22. **Time_of_Purchase:** Timestamp of when the purchase was made (date/time).\n",
    "23. **Discount_Used:** Whether the customer used a discount (Boolean: True/False).\n",
    "24. **Customer_Loyalty_Program_Member:** Whether the customer is part of a loyalty program (Boolean: True/False).\n",
    "25. **Purchase_Intent:** The intent behind the purchase (categorical: Impulsive, Planned, Need-based, Wants-based).\n",
    "26. **Shipping_Preference:** Shipping preference (categorical: Standard, Express, No Preference).\n",
    "27. **Payment_Frequency:** Frequency of payment (categorical: One-time, Subscription, Installments).\n",
    "28. **Time_to_Decision:** Time taken from consideration to actual purchase (in days).\n"
   ]
  },
  {
   "cell_type": "markdown",
   "metadata": {},
   "source": [
    "## Data Extraction"
   ]
  },
  {
   "cell_type": "code",
   "execution_count": null,
   "metadata": {},
   "outputs": [],
   "source": [
    "og_df = pd.read_csv(FILE_PATH)"
   ]
  },
  {
   "cell_type": "code",
   "execution_count": null,
   "metadata": {},
   "outputs": [],
   "source": [
    "# Display the first 3 and last 3 rows of the DataFrame\n",
    "display(og_df.head(3))\n",
    "display(og_df.tail(3))"
   ]
  },
  {
   "cell_type": "code",
   "execution_count": null,
   "metadata": {},
   "outputs": [],
   "source": [
    "# A summary of the dataset\n",
    "print(\"Shape of dataset:\", og_df.shape)\n",
    "print(\"Data types:\\n\", og_df.dtypes)\n",
    "# Number of Unique values for categorical columns\n",
    "for col in og_df.select_dtypes(include=['object', 'int64', 'float64']).columns:\n",
    "    print(f\"Number of Unique value in {col}:\", len(og_df[col].unique()))"
   ]
  },
  {
   "cell_type": "markdown",
   "metadata": {},
   "source": [
    "## Data Transformation"
   ]
  },
  {
   "cell_type": "code",
   "execution_count": null,
   "metadata": {},
   "outputs": [],
   "source": [
    "# Missing data\n",
    "print(\"Missing values:\\n\", og_df.isnull().sum())"
   ]
  },
  {
   "cell_type": "markdown",
   "metadata": {},
   "source": [
    "Since there are 247 missing in Social_Media_Influence (24.7%) of the dataset of 1000 rows and 256 missing in Engagement_with_Ads (25.6%), the number of missing values is significant. Dropping the missing values will cause the loss of many rows, and substituting in value will properly skew the result. So, a new category will be made called 'Unknown.'"
   ]
  },
  {
   "cell_type": "code",
   "execution_count": null,
   "metadata": {},
   "outputs": [],
   "source": [
    "# Handle missing data \n",
    "clean_df = og_df.copy()\n",
    "clean_df['Social_Media_Influence'] = clean_df['Social_Media_Influence'].fillna('Unknown')\n",
    "clean_df['Engagement_with_Ads'] = clean_df['Engagement_with_Ads'].fillna('Unknown')"
   ]
  },
  {
   "cell_type": "code",
   "execution_count": null,
   "metadata": {},
   "outputs": [],
   "source": [
    "# Handle money data\n",
    "clean_df['Purchase_Amount'] = clean_df['Purchase_Amount'].replace(r'[\\$,]', '', regex=True).astype(float)\n",
    "clean_df['Purchase_Amount'] = clean_df['Purchase_Amount'].fillna(0)  \n",
    "clean_df['Purchase_Amount'] = clean_df['Purchase_Amount'].round(2)"
   ]
  },
  {
   "cell_type": "code",
   "execution_count": null,
   "metadata": {},
   "outputs": [],
   "source": [
    "print(\"Missing values:\\n\", clean_df.isnull().sum())"
   ]
  },
  {
   "cell_type": "markdown",
   "metadata": {},
   "source": [
    "I want to look at some columns that are continuous\n",
    "1. **Purchase_Amount**\n",
    "2. **Time_Spent_on_Product_Research(hours)**\n",
    "3. **Time_to_Decision**\n",
    "\n",
    "I do not see any outliers, so I believe this dataset was already clean."
   ]
  },
  {
   "cell_type": "code",
   "execution_count": null,
   "metadata": {},
   "outputs": [],
   "source": [
    "# Handle outliers\n",
    "def plot_boxplot(df):\n",
    "  plt.figure(figsize=(20,10))\n",
    "\n",
    "  # Plot 1: Purchase Amount\n",
    "  plt.subplot(1, 3, 1)\n",
    "  sns.boxplot(data=df[\"Purchase_Amount\"], flierprops={'markerfacecolor': 'red'})\n",
    "  plt.title(\"Purchase_Amount\")\n",
    "  plt.ylabel(\"Amount ($)\")\n",
    "\n",
    "  # Plot 2: Time Spent on Product Research\n",
    "  plt.subplot(1, 3, 2)\n",
    "  sns.boxplot(data=df[\"Time_Spent_on_Product_Research(hours)\"], flierprops={'markerfacecolor': 'red'})\n",
    "  plt.title(\"Time_Spent_on_Product_Research(hours)\")\n",
    "  plt.ylabel(\"Time (hrs)\")\n",
    "\n",
    "  # Plot 3: Time to Decision\n",
    "  plt.subplot(1, 3, 3)\n",
    "  sns.boxplot(data=df[\"Time_to_Decision\"], flierprops={'markerfacecolor': 'red'})\n",
    "  plt.title(\"Time_to_Decision\")\n",
    "  plt.ylabel(\"Time (days)\")\n",
    "\n",
    "  plt.tight_layout()\n",
    "  plt.show()\n",
    "\n",
    "plot_boxplot(clean_df)"
   ]
  },
  {
   "cell_type": "markdown",
   "metadata": {},
   "source": [
    "Graph 2 seems wrong, so here is another graph to explain it. People like to give 1 - 2 hours answer instead of some fraction. "
   ]
  },
  {
   "cell_type": "code",
   "execution_count": null,
   "metadata": {},
   "outputs": [],
   "source": [
    "print(f\"Unique value in {'Time_Spent_on_Product_Research(hours)'}:\", clean_df['Time_Spent_on_Product_Research(hours)'].unique())"
   ]
  },
  {
   "cell_type": "code",
   "execution_count": null,
   "metadata": {},
   "outputs": [],
   "source": [
    "plt.figure(figsize=(10, 5))\n",
    "sns.histplot(clean_df[\"Time_Spent_on_Product_Research(hours)\"], bins=20, kde=True)\n",
    "plt.title(\"Distribution of Time Spent on Product Research\")\n",
    "plt.xlabel(\"Hours\")\n",
    "plt.ylabel(\"Frequency\")\n",
    "plt.show()"
   ]
  }
 ],
 "metadata": {
  "kernelspec": {
   "display_name": "Python 3",
   "language": "python",
   "name": "python3"
  },
  "language_info": {
   "codemirror_mode": {
    "name": "ipython",
    "version": 3
   },
   "file_extension": ".py",
   "mimetype": "text/x-python",
   "name": "python",
   "nbconvert_exporter": "python",
   "pygments_lexer": "ipython3",
   "version": "3.12.6"
  }
 },
 "nbformat": 4,
 "nbformat_minor": 2
}
