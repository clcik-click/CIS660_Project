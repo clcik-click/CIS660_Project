{
 "cells": [
  {
   "cell_type": "code",
   "execution_count": 1,
   "metadata": {},
   "outputs": [],
   "source": [
    "import pandas as pd\n",
    "import numpy as np\n",
    "import matplotlib.pyplot as plt\n",
    "import seaborn as sns\n",
    "\n",
    "FILE_PATH = \"Ecommerce_Consumer_Behavior_Analysis_Data.csv\""
   ]
  },
  {
   "cell_type": "markdown",
   "metadata": {},
   "source": [
    "## About Dataset\n",
    "Source: https://www.kaggle.com/datasets/salahuddinahmedshuvo/ecommerce-consumer-behavior-analysis-data/data\n",
    "\n",
    "This dataset provides a comprehensive collection of consumer behavior data that can be used for various market research and statistical analyses. It includes information on purchasing patterns, demographics, product preferences, customer satisfaction, and more, making it ideal for market segmentation, predictive modeling, and understanding customer decision-making processes.\n",
    "\n",
    "The dataset is designed to help researchers, data scientists, and marketers gain insights into consumer purchasing behavior across a wide range of categories. By analyzing this dataset, users can identify key trends, segment customers, and make data-driven decisions to improve product offerings, marketing strategies, and customer engagement.\n",
    "\n",
    "### Key Features:\n",
    "- **Customer Demographics:** Understand age, income, gender, and education level for better segmentation and targeted marketing.\n",
    "- **Purchase Behavior:** Includes purchase amount, frequency, category, and channel preferences to assess spending patterns.\n",
    "- **Customer Loyalty:** Features like brand loyalty, engagement with ads, and loyalty program membership provide insights into long-term customer retention.\n",
    "- **Product Feedback:** Customer ratings and satisfaction levels allow for analysis of product quality and customer sentiment.\n",
    "- **Decision-Making:** Time spent on product research, time to decision, and purchase intent reflect how customers make purchasing decisions.\n",
    "- **Influences on Purchase:** Factors such as social media influence, discount sensitivity, and return rates are included to analyze how external factors affect purchasing behavior.\n",
    "\n",
    "### Columns Overview:\n",
    "0. **Customer_ID:** Unique identifier for each customer.\n",
    "1. **Age:** Customer's age (integer).\n",
    "2. **Gender:** Customer's gender (categorical: Male, Female, Non-binary, Other).\n",
    "3. **Income_Level:** Customer's income level (categorical: Low, Middle, High).\n",
    "4. **Marital_Status:** Customer's marital status (categorical: Single, Married, Divorced, Widowed).\n",
    "5. **Education_Level:** Highest level of education completed (categorical: High School, Bachelor's, Master's, Doctorate).\n",
    "6. **Occupation:** Customer's occupation (categorical: Various job titles).\n",
    "7. **Location:** Customer's location (city, region, or country).\n",
    "8. **Purchase_Category:** Category of purchased products (e.g., Electronics, Clothing, Groceries).\n",
    "9. **Purchase_Amount:** Amount spent during the purchase (decimal).\n",
    "10. **Frequency_of_Purchase:** Number of purchases made per month (integer).\n",
    "11. **Purchase_Channel:** The purchase method (categorical: Online, In-Store, Mixed).\n",
    "12. **Brand_Loyalty:** Loyalty to brands (1-5 scale).\n",
    "13. **Product_Rating:** Rating given by the customer to a purchased product (1-5 scale).\n",
    "14. **Time_Spent_on_Product_Research:** Time spent researching a product (integer, hours or minutes).\n",
    "15. **Social_Media_Influence:** Influence of social media on purchasing decision (categorical: High, Medium, Low, None).\n",
    "16. **Discount_Sensitivity:** Sensitivity to discounts (categorical: Very Sensitive, Somewhat Sensitive, Not Sensitive).\n",
    "17. **Return_Rate:** Percentage of products returned (decimal).\n",
    "18. **Customer_Satisfaction:** Overall satisfaction with the purchase (1-10 scale).\n",
    "19. **Engagement_with_Ads:** Engagement level with advertisements (categorical: High, Medium, Low, None).\n",
    "20. **Device_Used_for_Shopping:** Device used for shopping (categorical: Smartphone, Desktop, Tablet).\n",
    "21. **Payment_Method:** Method of payment used for the purchase (categorical: Credit Card, Debit Card, PayPal, Cash, Other).\n",
    "22. **Time_of_Purchase:** Timestamp of when the purchase was made (date/time).\n",
    "23. **Discount_Used:** Whether the customer used a discount (Boolean: True/False).\n",
    "24. **Customer_Loyalty_Program_Member:** Whether the customer is part of a loyalty program (Boolean: True/False).\n",
    "25. **Purchase_Intent:** The intent behind the purchase (categorical: Impulsive, Planned, Need-based, Wants-based).\n",
    "26. **Shipping_Preference:** Shipping preference (categorical: Standard, Express, No Preference).\n",
    "27. **Payment_Frequency:** Frequency of payment (categorical: One-time, Subscription, Installments).\n",
    "28. **Time_to_Decision:** Time taken from consideration to actual purchase (in days).\n"
   ]
  },
  {
   "cell_type": "markdown",
   "metadata": {},
   "source": [
    "## Data Extraction"
   ]
  },
  {
   "cell_type": "code",
   "execution_count": 2,
   "metadata": {},
   "outputs": [],
   "source": [
    "og_df = pd.read_csv(FILE_PATH)"
   ]
  },
  {
   "cell_type": "code",
   "execution_count": 3,
   "metadata": {},
   "outputs": [
    {
     "data": {
      "application/vnd.microsoft.datawrangler.viewer.v0+json": {
       "columns": [
        {
         "name": "index",
         "rawType": "int64",
         "type": "integer"
        },
        {
         "name": "Customer_ID",
         "rawType": "object",
         "type": "string"
        },
        {
         "name": "Age",
         "rawType": "int64",
         "type": "integer"
        },
        {
         "name": "Gender",
         "rawType": "object",
         "type": "string"
        },
        {
         "name": "Income_Level",
         "rawType": "object",
         "type": "string"
        },
        {
         "name": "Marital_Status",
         "rawType": "object",
         "type": "string"
        },
        {
         "name": "Education_Level",
         "rawType": "object",
         "type": "string"
        },
        {
         "name": "Occupation",
         "rawType": "object",
         "type": "string"
        },
        {
         "name": "Location",
         "rawType": "object",
         "type": "string"
        },
        {
         "name": "Purchase_Category",
         "rawType": "object",
         "type": "string"
        },
        {
         "name": "Purchase_Amount",
         "rawType": "object",
         "type": "string"
        },
        {
         "name": "Frequency_of_Purchase",
         "rawType": "int64",
         "type": "integer"
        },
        {
         "name": "Purchase_Channel",
         "rawType": "object",
         "type": "string"
        },
        {
         "name": "Brand_Loyalty",
         "rawType": "int64",
         "type": "integer"
        },
        {
         "name": "Product_Rating",
         "rawType": "int64",
         "type": "integer"
        },
        {
         "name": "Time_Spent_on_Product_Research(hours)",
         "rawType": "float64",
         "type": "float"
        },
        {
         "name": "Social_Media_Influence",
         "rawType": "object",
         "type": "unknown"
        },
        {
         "name": "Discount_Sensitivity",
         "rawType": "object",
         "type": "string"
        },
        {
         "name": "Return_Rate",
         "rawType": "int64",
         "type": "integer"
        },
        {
         "name": "Customer_Satisfaction",
         "rawType": "int64",
         "type": "integer"
        },
        {
         "name": "Engagement_with_Ads",
         "rawType": "object",
         "type": "unknown"
        },
        {
         "name": "Device_Used_for_Shopping",
         "rawType": "object",
         "type": "string"
        },
        {
         "name": "Payment_Method",
         "rawType": "object",
         "type": "string"
        },
        {
         "name": "Time_of_Purchase",
         "rawType": "object",
         "type": "string"
        },
        {
         "name": "Discount_Used",
         "rawType": "bool",
         "type": "boolean"
        },
        {
         "name": "Customer_Loyalty_Program_Member",
         "rawType": "bool",
         "type": "boolean"
        },
        {
         "name": "Purchase_Intent",
         "rawType": "object",
         "type": "string"
        },
        {
         "name": "Shipping_Preference",
         "rawType": "object",
         "type": "string"
        },
        {
         "name": "Time_to_Decision",
         "rawType": "int64",
         "type": "integer"
        }
       ],
       "conversionMethod": "pd.DataFrame",
       "ref": "40170ff0-2225-497f-b938-e08f7fb12b36",
       "rows": [
        [
         "0",
         "37-611-6911",
         "22",
         "Female",
         "Middle",
         "Married",
         "Bachelor's",
         "Middle",
         "Évry",
         "Gardening & Outdoors",
         "$333.80 ",
         "4",
         "Mixed",
         "5",
         "5",
         "2.0",
         null,
         "Somewhat Sensitive",
         "1",
         "7",
         null,
         "Tablet",
         "Credit Card",
         "3/1/2024",
         "True",
         "False",
         "Need-based",
         "No Preference",
         "2"
        ],
        [
         "1",
         "29-392-9296",
         "49",
         "Male",
         "High",
         "Married",
         "High School",
         "High",
         "Huocheng",
         "Food & Beverages",
         "$222.22 ",
         "11",
         "In-Store",
         "3",
         "1",
         "2.0",
         "Medium",
         "Not Sensitive",
         "1",
         "5",
         "High",
         "Tablet",
         "PayPal",
         "4/16/2024",
         "True",
         "False",
         "Wants-based",
         "Standard",
         "6"
        ],
        [
         "2",
         "84-649-5117",
         "24",
         "Female",
         "Middle",
         "Single",
         "Master's",
         "High",
         "Huzhen",
         "Office Supplies",
         "$426.22 ",
         "2",
         "Mixed",
         "5",
         "5",
         "0.3",
         "Low",
         "Not Sensitive",
         "1",
         "7",
         "Low",
         "Smartphone",
         "Debit Card",
         "3/15/2024",
         "True",
         "True",
         "Impulsive",
         "No Preference",
         "3"
        ]
       ],
       "shape": {
        "columns": 28,
        "rows": 3
       }
      },
      "text/html": [
       "<div>\n",
       "<style scoped>\n",
       "    .dataframe tbody tr th:only-of-type {\n",
       "        vertical-align: middle;\n",
       "    }\n",
       "\n",
       "    .dataframe tbody tr th {\n",
       "        vertical-align: top;\n",
       "    }\n",
       "\n",
       "    .dataframe thead th {\n",
       "        text-align: right;\n",
       "    }\n",
       "</style>\n",
       "<table border=\"1\" class=\"dataframe\">\n",
       "  <thead>\n",
       "    <tr style=\"text-align: right;\">\n",
       "      <th></th>\n",
       "      <th>Customer_ID</th>\n",
       "      <th>Age</th>\n",
       "      <th>Gender</th>\n",
       "      <th>Income_Level</th>\n",
       "      <th>Marital_Status</th>\n",
       "      <th>Education_Level</th>\n",
       "      <th>Occupation</th>\n",
       "      <th>Location</th>\n",
       "      <th>Purchase_Category</th>\n",
       "      <th>Purchase_Amount</th>\n",
       "      <th>...</th>\n",
       "      <th>Customer_Satisfaction</th>\n",
       "      <th>Engagement_with_Ads</th>\n",
       "      <th>Device_Used_for_Shopping</th>\n",
       "      <th>Payment_Method</th>\n",
       "      <th>Time_of_Purchase</th>\n",
       "      <th>Discount_Used</th>\n",
       "      <th>Customer_Loyalty_Program_Member</th>\n",
       "      <th>Purchase_Intent</th>\n",
       "      <th>Shipping_Preference</th>\n",
       "      <th>Time_to_Decision</th>\n",
       "    </tr>\n",
       "  </thead>\n",
       "  <tbody>\n",
       "    <tr>\n",
       "      <th>0</th>\n",
       "      <td>37-611-6911</td>\n",
       "      <td>22</td>\n",
       "      <td>Female</td>\n",
       "      <td>Middle</td>\n",
       "      <td>Married</td>\n",
       "      <td>Bachelor's</td>\n",
       "      <td>Middle</td>\n",
       "      <td>Évry</td>\n",
       "      <td>Gardening &amp; Outdoors</td>\n",
       "      <td>$333.80</td>\n",
       "      <td>...</td>\n",
       "      <td>7</td>\n",
       "      <td>NaN</td>\n",
       "      <td>Tablet</td>\n",
       "      <td>Credit Card</td>\n",
       "      <td>3/1/2024</td>\n",
       "      <td>True</td>\n",
       "      <td>False</td>\n",
       "      <td>Need-based</td>\n",
       "      <td>No Preference</td>\n",
       "      <td>2</td>\n",
       "    </tr>\n",
       "    <tr>\n",
       "      <th>1</th>\n",
       "      <td>29-392-9296</td>\n",
       "      <td>49</td>\n",
       "      <td>Male</td>\n",
       "      <td>High</td>\n",
       "      <td>Married</td>\n",
       "      <td>High School</td>\n",
       "      <td>High</td>\n",
       "      <td>Huocheng</td>\n",
       "      <td>Food &amp; Beverages</td>\n",
       "      <td>$222.22</td>\n",
       "      <td>...</td>\n",
       "      <td>5</td>\n",
       "      <td>High</td>\n",
       "      <td>Tablet</td>\n",
       "      <td>PayPal</td>\n",
       "      <td>4/16/2024</td>\n",
       "      <td>True</td>\n",
       "      <td>False</td>\n",
       "      <td>Wants-based</td>\n",
       "      <td>Standard</td>\n",
       "      <td>6</td>\n",
       "    </tr>\n",
       "    <tr>\n",
       "      <th>2</th>\n",
       "      <td>84-649-5117</td>\n",
       "      <td>24</td>\n",
       "      <td>Female</td>\n",
       "      <td>Middle</td>\n",
       "      <td>Single</td>\n",
       "      <td>Master's</td>\n",
       "      <td>High</td>\n",
       "      <td>Huzhen</td>\n",
       "      <td>Office Supplies</td>\n",
       "      <td>$426.22</td>\n",
       "      <td>...</td>\n",
       "      <td>7</td>\n",
       "      <td>Low</td>\n",
       "      <td>Smartphone</td>\n",
       "      <td>Debit Card</td>\n",
       "      <td>3/15/2024</td>\n",
       "      <td>True</td>\n",
       "      <td>True</td>\n",
       "      <td>Impulsive</td>\n",
       "      <td>No Preference</td>\n",
       "      <td>3</td>\n",
       "    </tr>\n",
       "  </tbody>\n",
       "</table>\n",
       "<p>3 rows × 28 columns</p>\n",
       "</div>"
      ],
      "text/plain": [
       "   Customer_ID  Age  Gender Income_Level Marital_Status Education_Level  \\\n",
       "0  37-611-6911   22  Female       Middle        Married      Bachelor's   \n",
       "1  29-392-9296   49    Male         High        Married     High School   \n",
       "2  84-649-5117   24  Female       Middle         Single        Master's   \n",
       "\n",
       "  Occupation  Location     Purchase_Category Purchase_Amount  ...  \\\n",
       "0     Middle      Évry  Gardening & Outdoors        $333.80   ...   \n",
       "1       High  Huocheng      Food & Beverages        $222.22   ...   \n",
       "2       High    Huzhen       Office Supplies        $426.22   ...   \n",
       "\n",
       "   Customer_Satisfaction Engagement_with_Ads  Device_Used_for_Shopping  \\\n",
       "0                      7                 NaN                    Tablet   \n",
       "1                      5                High                    Tablet   \n",
       "2                      7                 Low                Smartphone   \n",
       "\n",
       "   Payment_Method  Time_of_Purchase Discount_Used  \\\n",
       "0     Credit Card          3/1/2024          True   \n",
       "1          PayPal         4/16/2024          True   \n",
       "2      Debit Card         3/15/2024          True   \n",
       "\n",
       "  Customer_Loyalty_Program_Member  Purchase_Intent  Shipping_Preference  \\\n",
       "0                           False       Need-based        No Preference   \n",
       "1                           False      Wants-based             Standard   \n",
       "2                            True        Impulsive        No Preference   \n",
       "\n",
       "  Time_to_Decision  \n",
       "0                2  \n",
       "1                6  \n",
       "2                3  \n",
       "\n",
       "[3 rows x 28 columns]"
      ]
     },
     "metadata": {},
     "output_type": "display_data"
    },
    {
     "data": {
      "application/vnd.microsoft.datawrangler.viewer.v0+json": {
       "columns": [
        {
         "name": "index",
         "rawType": "int64",
         "type": "integer"
        },
        {
         "name": "Customer_ID",
         "rawType": "object",
         "type": "string"
        },
        {
         "name": "Age",
         "rawType": "int64",
         "type": "integer"
        },
        {
         "name": "Gender",
         "rawType": "object",
         "type": "string"
        },
        {
         "name": "Income_Level",
         "rawType": "object",
         "type": "string"
        },
        {
         "name": "Marital_Status",
         "rawType": "object",
         "type": "string"
        },
        {
         "name": "Education_Level",
         "rawType": "object",
         "type": "string"
        },
        {
         "name": "Occupation",
         "rawType": "object",
         "type": "string"
        },
        {
         "name": "Location",
         "rawType": "object",
         "type": "string"
        },
        {
         "name": "Purchase_Category",
         "rawType": "object",
         "type": "string"
        },
        {
         "name": "Purchase_Amount",
         "rawType": "object",
         "type": "string"
        },
        {
         "name": "Frequency_of_Purchase",
         "rawType": "int64",
         "type": "integer"
        },
        {
         "name": "Purchase_Channel",
         "rawType": "object",
         "type": "string"
        },
        {
         "name": "Brand_Loyalty",
         "rawType": "int64",
         "type": "integer"
        },
        {
         "name": "Product_Rating",
         "rawType": "int64",
         "type": "integer"
        },
        {
         "name": "Time_Spent_on_Product_Research(hours)",
         "rawType": "float64",
         "type": "float"
        },
        {
         "name": "Social_Media_Influence",
         "rawType": "object",
         "type": "string"
        },
        {
         "name": "Discount_Sensitivity",
         "rawType": "object",
         "type": "string"
        },
        {
         "name": "Return_Rate",
         "rawType": "int64",
         "type": "integer"
        },
        {
         "name": "Customer_Satisfaction",
         "rawType": "int64",
         "type": "integer"
        },
        {
         "name": "Engagement_with_Ads",
         "rawType": "object",
         "type": "string"
        },
        {
         "name": "Device_Used_for_Shopping",
         "rawType": "object",
         "type": "string"
        },
        {
         "name": "Payment_Method",
         "rawType": "object",
         "type": "string"
        },
        {
         "name": "Time_of_Purchase",
         "rawType": "object",
         "type": "string"
        },
        {
         "name": "Discount_Used",
         "rawType": "bool",
         "type": "boolean"
        },
        {
         "name": "Customer_Loyalty_Program_Member",
         "rawType": "bool",
         "type": "boolean"
        },
        {
         "name": "Purchase_Intent",
         "rawType": "object",
         "type": "string"
        },
        {
         "name": "Shipping_Preference",
         "rawType": "object",
         "type": "string"
        },
        {
         "name": "Time_to_Decision",
         "rawType": "int64",
         "type": "integer"
        }
       ],
       "conversionMethod": "pd.DataFrame",
       "ref": "584f5f75-1bcc-40c1-84c3-ccdbe66dd278",
       "rows": [
        [
         "997",
         "77-241-7621",
         "26",
         "Male",
         "High",
         "Married",
         "Bachelor's",
         "High",
         "Warudoyong",
         "Food & Beverages",
         "$453.37 ",
         "10",
         "Mixed",
         "1",
         "1",
         "2.0",
         "Low",
         "Very Sensitive",
         "0",
         "6",
         "High",
         "Desktop",
         "Credit Card",
         "3/11/2024",
         "True",
         "True",
         "Wants-based",
         "Express",
         "9"
        ],
        [
         "998",
         "53-091-2176",
         "21",
         "Female",
         "High",
         "Widowed",
         "Bachelor's",
         "Middle",
         "Béziers",
         "Baby Products",
         "$106.15 ",
         "12",
         "In-Store",
         "4",
         "4",
         "0.3",
         "Low",
         "Somewhat Sensitive",
         "0",
         "5",
         "Medium",
         "Desktop",
         "Cash",
         "3/30/2024",
         "True",
         "True",
         "Impulsive",
         "Standard",
         "8"
        ],
        [
         "999",
         "48-203-9118",
         "21",
         "Female",
         "Middle",
         "Single",
         "High School",
         "High",
         "Dongzhou",
         "Health Care",
         "$378.47 ",
         "6",
         "Online",
         "5",
         "2",
         "0.33",
         "Medium",
         "Not Sensitive",
         "1",
         "10",
         "Low",
         "Tablet",
         "Other",
         "12/8/2024",
         "False",
         "False",
         "Planned",
         "Express",
         "2"
        ]
       ],
       "shape": {
        "columns": 28,
        "rows": 3
       }
      },
      "text/html": [
       "<div>\n",
       "<style scoped>\n",
       "    .dataframe tbody tr th:only-of-type {\n",
       "        vertical-align: middle;\n",
       "    }\n",
       "\n",
       "    .dataframe tbody tr th {\n",
       "        vertical-align: top;\n",
       "    }\n",
       "\n",
       "    .dataframe thead th {\n",
       "        text-align: right;\n",
       "    }\n",
       "</style>\n",
       "<table border=\"1\" class=\"dataframe\">\n",
       "  <thead>\n",
       "    <tr style=\"text-align: right;\">\n",
       "      <th></th>\n",
       "      <th>Customer_ID</th>\n",
       "      <th>Age</th>\n",
       "      <th>Gender</th>\n",
       "      <th>Income_Level</th>\n",
       "      <th>Marital_Status</th>\n",
       "      <th>Education_Level</th>\n",
       "      <th>Occupation</th>\n",
       "      <th>Location</th>\n",
       "      <th>Purchase_Category</th>\n",
       "      <th>Purchase_Amount</th>\n",
       "      <th>...</th>\n",
       "      <th>Customer_Satisfaction</th>\n",
       "      <th>Engagement_with_Ads</th>\n",
       "      <th>Device_Used_for_Shopping</th>\n",
       "      <th>Payment_Method</th>\n",
       "      <th>Time_of_Purchase</th>\n",
       "      <th>Discount_Used</th>\n",
       "      <th>Customer_Loyalty_Program_Member</th>\n",
       "      <th>Purchase_Intent</th>\n",
       "      <th>Shipping_Preference</th>\n",
       "      <th>Time_to_Decision</th>\n",
       "    </tr>\n",
       "  </thead>\n",
       "  <tbody>\n",
       "    <tr>\n",
       "      <th>997</th>\n",
       "      <td>77-241-7621</td>\n",
       "      <td>26</td>\n",
       "      <td>Male</td>\n",
       "      <td>High</td>\n",
       "      <td>Married</td>\n",
       "      <td>Bachelor's</td>\n",
       "      <td>High</td>\n",
       "      <td>Warudoyong</td>\n",
       "      <td>Food &amp; Beverages</td>\n",
       "      <td>$453.37</td>\n",
       "      <td>...</td>\n",
       "      <td>6</td>\n",
       "      <td>High</td>\n",
       "      <td>Desktop</td>\n",
       "      <td>Credit Card</td>\n",
       "      <td>3/11/2024</td>\n",
       "      <td>True</td>\n",
       "      <td>True</td>\n",
       "      <td>Wants-based</td>\n",
       "      <td>Express</td>\n",
       "      <td>9</td>\n",
       "    </tr>\n",
       "    <tr>\n",
       "      <th>998</th>\n",
       "      <td>53-091-2176</td>\n",
       "      <td>21</td>\n",
       "      <td>Female</td>\n",
       "      <td>High</td>\n",
       "      <td>Widowed</td>\n",
       "      <td>Bachelor's</td>\n",
       "      <td>Middle</td>\n",
       "      <td>Béziers</td>\n",
       "      <td>Baby Products</td>\n",
       "      <td>$106.15</td>\n",
       "      <td>...</td>\n",
       "      <td>5</td>\n",
       "      <td>Medium</td>\n",
       "      <td>Desktop</td>\n",
       "      <td>Cash</td>\n",
       "      <td>3/30/2024</td>\n",
       "      <td>True</td>\n",
       "      <td>True</td>\n",
       "      <td>Impulsive</td>\n",
       "      <td>Standard</td>\n",
       "      <td>8</td>\n",
       "    </tr>\n",
       "    <tr>\n",
       "      <th>999</th>\n",
       "      <td>48-203-9118</td>\n",
       "      <td>21</td>\n",
       "      <td>Female</td>\n",
       "      <td>Middle</td>\n",
       "      <td>Single</td>\n",
       "      <td>High School</td>\n",
       "      <td>High</td>\n",
       "      <td>Dongzhou</td>\n",
       "      <td>Health Care</td>\n",
       "      <td>$378.47</td>\n",
       "      <td>...</td>\n",
       "      <td>10</td>\n",
       "      <td>Low</td>\n",
       "      <td>Tablet</td>\n",
       "      <td>Other</td>\n",
       "      <td>12/8/2024</td>\n",
       "      <td>False</td>\n",
       "      <td>False</td>\n",
       "      <td>Planned</td>\n",
       "      <td>Express</td>\n",
       "      <td>2</td>\n",
       "    </tr>\n",
       "  </tbody>\n",
       "</table>\n",
       "<p>3 rows × 28 columns</p>\n",
       "</div>"
      ],
      "text/plain": [
       "     Customer_ID  Age  Gender Income_Level Marital_Status Education_Level  \\\n",
       "997  77-241-7621   26    Male         High        Married      Bachelor's   \n",
       "998  53-091-2176   21  Female         High        Widowed      Bachelor's   \n",
       "999  48-203-9118   21  Female       Middle         Single     High School   \n",
       "\n",
       "    Occupation    Location Purchase_Category Purchase_Amount  ...  \\\n",
       "997       High  Warudoyong  Food & Beverages        $453.37   ...   \n",
       "998     Middle     Béziers     Baby Products        $106.15   ...   \n",
       "999       High    Dongzhou       Health Care        $378.47   ...   \n",
       "\n",
       "     Customer_Satisfaction Engagement_with_Ads  Device_Used_for_Shopping  \\\n",
       "997                      6                High                   Desktop   \n",
       "998                      5              Medium                   Desktop   \n",
       "999                     10                 Low                    Tablet   \n",
       "\n",
       "     Payment_Method  Time_of_Purchase Discount_Used  \\\n",
       "997     Credit Card         3/11/2024          True   \n",
       "998            Cash         3/30/2024          True   \n",
       "999           Other         12/8/2024         False   \n",
       "\n",
       "    Customer_Loyalty_Program_Member  Purchase_Intent  Shipping_Preference  \\\n",
       "997                            True      Wants-based              Express   \n",
       "998                            True        Impulsive             Standard   \n",
       "999                           False          Planned              Express   \n",
       "\n",
       "    Time_to_Decision  \n",
       "997                9  \n",
       "998                8  \n",
       "999                2  \n",
       "\n",
       "[3 rows x 28 columns]"
      ]
     },
     "metadata": {},
     "output_type": "display_data"
    }
   ],
   "source": [
    "# Display the first 3 and last 3 rows of the DataFrame\n",
    "display(og_df.head(3))\n",
    "display(og_df.tail(3))"
   ]
  },
  {
   "cell_type": "code",
   "execution_count": 4,
   "metadata": {},
   "outputs": [
    {
     "name": "stdout",
     "output_type": "stream",
     "text": [
      "Shape of dataset: (1000, 28)\n",
      "Data types:\n",
      " Customer_ID                               object\n",
      "Age                                        int64\n",
      "Gender                                    object\n",
      "Income_Level                              object\n",
      "Marital_Status                            object\n",
      "Education_Level                           object\n",
      "Occupation                                object\n",
      "Location                                  object\n",
      "Purchase_Category                         object\n",
      "Purchase_Amount                           object\n",
      "Frequency_of_Purchase                      int64\n",
      "Purchase_Channel                          object\n",
      "Brand_Loyalty                              int64\n",
      "Product_Rating                             int64\n",
      "Time_Spent_on_Product_Research(hours)    float64\n",
      "Social_Media_Influence                    object\n",
      "Discount_Sensitivity                      object\n",
      "Return_Rate                                int64\n",
      "Customer_Satisfaction                      int64\n",
      "Engagement_with_Ads                       object\n",
      "Device_Used_for_Shopping                  object\n",
      "Payment_Method                            object\n",
      "Time_of_Purchase                          object\n",
      "Discount_Used                               bool\n",
      "Customer_Loyalty_Program_Member             bool\n",
      "Purchase_Intent                           object\n",
      "Shipping_Preference                       object\n",
      "Time_to_Decision                           int64\n",
      "dtype: object\n",
      "Number of Unique value in Customer_ID: 1000\n",
      "Number of Unique value in Age: 33\n",
      "Number of Unique value in Gender: 8\n",
      "Number of Unique value in Income_Level: 2\n",
      "Number of Unique value in Marital_Status: 4\n",
      "Number of Unique value in Education_Level: 3\n",
      "Number of Unique value in Occupation: 2\n",
      "Number of Unique value in Location: 969\n",
      "Number of Unique value in Purchase_Category: 24\n",
      "Number of Unique value in Purchase_Amount: 989\n",
      "Number of Unique value in Frequency_of_Purchase: 11\n",
      "Number of Unique value in Purchase_Channel: 3\n",
      "Number of Unique value in Brand_Loyalty: 5\n",
      "Number of Unique value in Product_Rating: 5\n",
      "Number of Unique value in Time_Spent_on_Product_Research(hours): 12\n",
      "Number of Unique value in Social_Media_Influence: 4\n",
      "Number of Unique value in Discount_Sensitivity: 3\n",
      "Number of Unique value in Return_Rate: 3\n",
      "Number of Unique value in Customer_Satisfaction: 10\n",
      "Number of Unique value in Engagement_with_Ads: 4\n",
      "Number of Unique value in Device_Used_for_Shopping: 3\n",
      "Number of Unique value in Payment_Method: 5\n",
      "Number of Unique value in Time_of_Purchase: 344\n",
      "Number of Unique value in Purchase_Intent: 4\n",
      "Number of Unique value in Shipping_Preference: 3\n",
      "Number of Unique value in Time_to_Decision: 14\n"
     ]
    }
   ],
   "source": [
    "# A summary of the dataset\n",
    "print(\"Shape of dataset:\", og_df.shape)\n",
    "print(\"Data types:\\n\", og_df.dtypes)\n",
    "# Number of Unique values for categorical columns\n",
    "for col in og_df.select_dtypes(include=['object', 'int64', 'float64']).columns:\n",
    "    print(f\"Number of Unique value in {col}:\", len(og_df[col].unique()))"
   ]
  },
  {
   "cell_type": "markdown",
   "metadata": {},
   "source": [
    "## Data Transformation"
   ]
  },
  {
   "cell_type": "code",
   "execution_count": 5,
   "metadata": {},
   "outputs": [
    {
     "name": "stdout",
     "output_type": "stream",
     "text": [
      "Missing values:\n",
      " Customer_ID                                0\n",
      "Age                                        0\n",
      "Gender                                     0\n",
      "Income_Level                               0\n",
      "Marital_Status                             0\n",
      "Education_Level                            0\n",
      "Occupation                                 0\n",
      "Location                                   0\n",
      "Purchase_Category                          0\n",
      "Purchase_Amount                            0\n",
      "Frequency_of_Purchase                      0\n",
      "Purchase_Channel                           0\n",
      "Brand_Loyalty                              0\n",
      "Product_Rating                             0\n",
      "Time_Spent_on_Product_Research(hours)      0\n",
      "Social_Media_Influence                   247\n",
      "Discount_Sensitivity                       0\n",
      "Return_Rate                                0\n",
      "Customer_Satisfaction                      0\n",
      "Engagement_with_Ads                      256\n",
      "Device_Used_for_Shopping                   0\n",
      "Payment_Method                             0\n",
      "Time_of_Purchase                           0\n",
      "Discount_Used                              0\n",
      "Customer_Loyalty_Program_Member            0\n",
      "Purchase_Intent                            0\n",
      "Shipping_Preference                        0\n",
      "Time_to_Decision                           0\n",
      "dtype: int64\n"
     ]
    }
   ],
   "source": [
    "# Missing data\n",
    "print(\"Missing values:\\n\", og_df.isnull().sum())"
   ]
  },
  {
   "cell_type": "markdown",
   "metadata": {},
   "source": [
    "Since there are 247 missing in Social_Media_Influence (24.7%) of the dataset of 1000 rows and 256 missing in Engagement_with_Ads (25.6%), the number of missing values is significant. Dropping the missing values will cause the loss of many rows, and substituting in value will properly skew the result. So, a new category will be made called 'Unknown.'"
   ]
  },
  {
   "cell_type": "code",
   "execution_count": 6,
   "metadata": {},
   "outputs": [],
   "source": [
    "# Handle missing data \n",
    "clean_df = og_df.copy()\n",
    "clean_df['Social_Media_Influence'] = clean_df['Social_Media_Influence'].fillna('Unknown')\n",
    "clean_df['Engagement_with_Ads'] = clean_df['Engagement_with_Ads'].fillna('Unknown')"
   ]
  },
  {
   "cell_type": "code",
   "execution_count": 7,
   "metadata": {},
   "outputs": [],
   "source": [
    "# Handle money data\n",
    "clean_df['Purchase_Amount'] = clean_df['Purchase_Amount'].replace(r'[\\$,]', '', regex=True).astype(float)\n",
    "clean_df['Purchase_Amount'] = clean_df['Purchase_Amount'].fillna(0)  \n",
    "clean_df['Purchase_Amount'] = clean_df['Purchase_Amount'].round(2)"
   ]
  },
  {
   "cell_type": "code",
   "execution_count": 8,
   "metadata": {},
   "outputs": [
    {
     "name": "stdout",
     "output_type": "stream",
     "text": [
      "Missing values:\n",
      " Customer_ID                              0\n",
      "Age                                      0\n",
      "Gender                                   0\n",
      "Income_Level                             0\n",
      "Marital_Status                           0\n",
      "Education_Level                          0\n",
      "Occupation                               0\n",
      "Location                                 0\n",
      "Purchase_Category                        0\n",
      "Purchase_Amount                          0\n",
      "Frequency_of_Purchase                    0\n",
      "Purchase_Channel                         0\n",
      "Brand_Loyalty                            0\n",
      "Product_Rating                           0\n",
      "Time_Spent_on_Product_Research(hours)    0\n",
      "Social_Media_Influence                   0\n",
      "Discount_Sensitivity                     0\n",
      "Return_Rate                              0\n",
      "Customer_Satisfaction                    0\n",
      "Engagement_with_Ads                      0\n",
      "Device_Used_for_Shopping                 0\n",
      "Payment_Method                           0\n",
      "Time_of_Purchase                         0\n",
      "Discount_Used                            0\n",
      "Customer_Loyalty_Program_Member          0\n",
      "Purchase_Intent                          0\n",
      "Shipping_Preference                      0\n",
      "Time_to_Decision                         0\n",
      "dtype: int64\n"
     ]
    }
   ],
   "source": [
    "print(\"Missing values:\\n\", clean_df.isnull().sum())"
   ]
  },
  {
   "cell_type": "markdown",
   "metadata": {},
   "source": [
    "I want to look at some columns that are continuous\n",
    "1. **Purchase_Amount**\n",
    "2. **Time_Spent_on_Product_Research(hours)**\n",
    "3. **Time_to_Decision**\n",
    "\n",
    "I do not see any outliers, so I believe this dataset was already clean."
   ]
  },
  {
   "cell_type": "code",
   "execution_count": 9,
   "metadata": {},
   "outputs": [
    {
     "data": {
      "image/png": "[encoded data removed]",
      "text/plain": [
       "<Figure size 2000x1000 with 3 Axes>"
      ]
     },
     "metadata": {},
     "output_type": "display_data"
    }
   ],
   "source": [
    "# Handle outliers\n",
    "def plot_boxplot(df):\n",
    "  plt.figure(figsize=(20,10))\n",
    "\n",
    "  # Plot 1: Purchase Amount\n",
    "  plt.subplot(1, 3, 1)\n",
    "  sns.boxplot(data=df[\"Purchase_Amount\"], flierprops={'markerfacecolor': 'red'})\n",
    "  plt.title(\"Purchase_Amount\")\n",
    "  plt.ylabel(\"Amount ($)\")\n",
    "\n",
    "  # Plot 2: Time Spent on Product Research\n",
    "  plt.subplot(1, 3, 2)\n",
    "  sns.boxplot(data=df[\"Time_Spent_on_Product_Research(hours)\"], flierprops={'markerfacecolor': 'red'})\n",
    "  plt.title(\"Time_Spent_on_Product_Research(hours)\")\n",
    "  plt.ylabel(\"Time (hrs)\")\n",
    "\n",
    "  # Plot 3: Time to Decision\n",
    "  plt.subplot(1, 3, 3)\n",
    "  sns.boxplot(data=df[\"Time_to_Decision\"], flierprops={'markerfacecolor': 'red'})\n",
    "  plt.title(\"Time_to_Decision\")\n",
    "  plt.ylabel(\"Time (days)\")\n",
    "\n",
    "  plt.tight_layout()\n",
    "  plt.show()\n",
    "\n",
    "plot_boxplot(clean_df)"
   ]
  },
  {
   "cell_type": "markdown",
   "metadata": {},
   "source": [
    "Graph 2 seems wrong, so here is another graph to explain it. People like to give 1 - 2 hours answer instead of some fraction. "
   ]
  },
  {
   "cell_type": "code",
   "execution_count": 10,
   "metadata": {},
   "outputs": [
    {
     "name": "stdout",
     "output_type": "stream",
     "text": [
      "Unique value in Time_Spent_on_Product_Research(hours): [2.   0.3  1.   0.   0.5  0.7  0.25 0.2  1.2  1.3  1.5  0.33]\n"
     ]
    }
   ],
   "source": [
    "print(f\"Unique value in {'Time_Spent_on_Product_Research(hours)'}:\", clean_df['Time_Spent_on_Product_Research(hours)'].unique())"
   ]
  },
  {
   "cell_type": "code",
   "execution_count": 11,
   "metadata": {},
   "outputs": [
    {
     "data": {
      "image/png": "[encoded data removed]",
      "text/plain": [
       "<Figure size 1000x500 with 1 Axes>"
      ]
     },
     "metadata": {},
     "output_type": "display_data"
    }
   ],
   "source": [
    "plt.figure(figsize=(10, 5))\n",
    "sns.histplot(clean_df[\"Time_Spent_on_Product_Research(hours)\"], bins=20, kde=True)\n",
    "plt.title(\"Distribution of Time Spent on Product Research\")\n",
    "plt.xlabel(\"Hours\")\n",
    "plt.ylabel(\"Frequency\")\n",
    "plt.show()"
   ]
  }
 ],
 "metadata": {
  "kernelspec": {
   "display_name": "Python 3",
   "language": "python",
   "name": "python3"
  },
  "language_info": {
   "codemirror_mode": {
    "name": "ipython",
    "version": 3
   },
   "file_extension": ".py",
   "mimetype": "text/x-python",
   "name": "python",
   "nbconvert_exporter": "python",
   "pygments_lexer": "ipython3",
   "version": "3.12.6"
  }
 },
 "nbformat": 4,
 "nbformat_minor": 2
}
